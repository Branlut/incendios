{
 "cells": [
  {
   "cell_type": "code",
   "execution_count": 1,
   "id": "2f7e0a6c",
   "metadata": {},
   "outputs": [],
   "source": [
    "from pyspark.sql import SparkSession \n",
    "from pyspark.sql.functions import col, sum\n",
    "from matplotlib import pyplot as plt\n",
    "import seaborn as sns\n",
    "from pyspark.ml.classification import RandomForestClassifier\n",
    "from pyspark.ml.feature import VectorAssembler\n",
    "from pyspark.ml import Pipeline\n",
    "from pyspark.ml.evaluation import BinaryClassificationEvaluator"
   ]
  },
  {
   "cell_type": "code",
   "execution_count": 2,
   "id": "ab79328a",
   "metadata": {},
   "outputs": [
    {
     "name": "stdout",
     "output_type": "stream",
     "text": [
      "+--------+------+-----+-------+------------+--------------------+----------+--------------+---------------+--------+--------+--------+--------------------+--------------------+--------------------+--------------------+--------------------+--------------------+--------------------+--------------------+-----------------+------------------+------------------+------------------+-----+------+-----------------+----------+---------+-----------------+----------------+-------------+--------+--------------+--------------------+\n",
      "|  fireID|season| code|cut_reg|region_conaf|          name_conaf|area_conaf|ign_date_conaf|ctrl_date_conaf|     lat|     lon|firescar|           folderloc|   firescar_img_name|    prefire_img_name|   postfire_img_name|      rdnbr_img_name|        sev_img_name|   firescar_vec_name|        sev_vec_name|        north_lat|         south_lat|          west_lon|          east_lon|width|height|       total_area|area_unchs|area_lows|        area_mods|         area_hs|firescar_poly|sev_poly|       overlap|                 obs|\n",
      "+--------+------+-----+-------+------------+--------------------+----------+--------------+---------------+--------+--------+--------+--------------------+--------------------+--------------------+--------------------+--------------------+--------------------+--------------------+--------------------+-----------------+------------------+------------------+------------------+-----+------+-----------------+----------+---------+-----------------+----------------+-------------+--------+--------------+--------------------+\n",
      "| ID10000|  1986|CL-BI|      8|      Biobío|             RAPELCO|      51.0|    1986-01-04|     1986-01-04| -37.671|-72.3978|       0|                NULL|                NULL|                NULL|                NULL|                NULL|                NULL|                NULL|                NULL|             NULL|              NULL|              NULL|              NULL| NULL|  NULL|             NULL|      NULL|     NULL|             NULL|            NULL|         NULL|    NULL|          NULL|                NULL|\n",
      "|ID100000|  2003|CL-ML|      7|       Maule|         MAITENHUAPI|      50.0|    2003-02-09|     2003-02-09|-35.3283|-71.5799|       1|FireScar_CL-ML_Ma...|FireScar_CL-ML_ID...|ImgPreF_CL-ML_ID1...|ImgPosF_CL-ML_ID1...|RdNBR_CL-ML_ID100...|Severity_CL-ML_ID...|FireScar_CL-ML_ID...|Severity_CL-ML_ID...|-35.3280451785684|-35.34044192948925| -71.5815347628368| -71.5718329577683| 36.0|  46.0| 427827.193847656|       0.0|      0.0| 178748.092346191|249079.101501465|          1.0|    57.0|          NULL|                NULL|\n",
      "| ID10002|  1986|CL-BI|     16|       Ñuble|         LAs chilcas|      87.0|    1986-02-03|     1986-02-03|-36.6711|-71.9708|       1|FireScar_CL-BI_Bi...|FireScar_CL-BI_ID...|ImgPreF_CL-BI_ID1...|ImgPosF_CL-BI_ID1...|RdNBR_CL-BI_ID100...|Severity_CL-BI_ID...|FireScar_CL-BI_ID...|Severity_CL-BI_ID...|-36.6577314621221|-36.68953182317995| -71.9809257381563|-71.93241671281382|180.0| 118.0| 3227680.69720459|       0.0|      0.0| 710373.072387695|2517307.62481689|         16.0|   423.0|          NULL|The ignition poin...|\n",
      "|ID100027|  2003|CL-ML|      7|       Maule|    LAS CATALINAS II|      80.0|    2003-02-15|     2003-02-16|-35.5755|-72.1725|       1|FireScar_CL-ML_Ma...|FireScar_CL-ML_ID...|ImgPreF_CL-ML_ID1...|ImgPosF_CL-ML_ID1...|RdNBR_CL-ML_ID100...|Severity_CL-ML_ID...|FireScar_CL-ML_ID...|Severity_CL-ML_ID...|-35.5452578142685| -35.5759801969854| -72.1728058828442|-72.15960064816764| 49.0| 114.0| 1155078.04302979|       0.0|      0.0| 539904.116699219|615173.926330566|          6.0|   122.0|          NULL|                NULL|\n",
      "| ID10003|  1986|CL-BI|     16|       Ñuble|        NAHUELTORO 1|      53.0|    1986-02-06|     1986-02-06|-36.4938|-71.8524|       0|                NULL|                NULL|                NULL|                NULL|                NULL|                NULL|                NULL|                NULL|             NULL|              NULL|              NULL|              NULL| NULL|  NULL|             NULL|      NULL|     NULL|             NULL|            NULL|         NULL|    NULL|          NULL|                NULL|\n",
      "|ID100032|  2003|CL-ML|      7|       Maule|       PAN DE AZUCAR|      15.0|    2003-02-15|     2003-02-15|-35.6253|-71.9868|       1|FireScar_CL-ML_Ma...|FireScar_CL-ML_ID...|ImgPreF_CL-ML_ID1...|ImgPosF_CL-ML_ID1...|RdNBR_CL-ML_ID100...|Severity_CL-ML_ID...|FireScar_CL-ML_ID...|Severity_CL-ML_ID...|-35.6250282114983|-35.63284355447014| -72.0016768212195|-71.99466996200337| 26.0|  29.0|  188324.72479248|       0.0|      0.0|              0.0| 188324.72479248|          2.0|     2.0|          NULL|                NULL|\n",
      "|ID100041|  2003|CL-ML|      7|       Maule|     HUERTA DE MAULE|     779.0|    2003-02-16|     2003-02-20|-35.6627| -71.933|       1|FireScar_CL-ML_Ma...|FireScar_CL-ML_ID...|ImgPreF_CL-ML_ID1...|ImgPosF_CL-ML_ID1...|RdNBR_CL-ML_ID100...|Severity_CL-ML_ID...|FireScar_CL-ML_ID...|Severity_CL-ML_ID...|-35.6115534822365|-35.66006250757898| -71.9402320557857|-71.90061635175601|147.0| 180.0| 7980681.59991455|       0.0|      0.0| 1274382.03552246|6706299.56439209|          5.0|   356.0|          NULL|                NULL|\n",
      "| ID10005|  1986|CL-AR|      9|La Araucanía|            STA RITA|      71.0|    1986-03-07|     1986-03-07|-38.4874|-72.6553|       0|                NULL|                NULL|                NULL|                NULL|                NULL|                NULL|                NULL|                NULL|             NULL|              NULL|              NULL|              NULL| NULL|  NULL|             NULL|      NULL|     NULL|             NULL|            NULL|         NULL|    NULL|          NULL|                NULL|\n",
      "|ID100057|  2003|CL-ML|      7|       Maule|           CULENMAPU|      18.0|    2003-02-19|     2003-02-20|-34.7581|-72.0644|       1|FireScar_CL-ML_Ma...|FireScar_CL-ML_ID...|ImgPreF_CL-ML_ID1...|ImgPosF_CL-ML_ID1...|RdNBR_CL-ML_ID100...|Severity_CL-ML_ID...|FireScar_CL-ML_ID...|Severity_CL-ML_ID...|-34.7766592571759|-34.78528308390345| -72.0787522725969| -72.0682419837727| 39.0|  32.0| 340709.092285156|       0.0|      0.0| 95871.2235107422|244837.868774414|          1.0|    47.0|          NULL|                NULL|\n",
      "|ID100058|  2003|CL-ML|      7|       Maule|       SANTA ADRIANA|      14.0|    2003-02-19|     2003-02-19|-35.9643|-71.7556|       1|FireScar_CL-ML_Ma...|FireScar_CL-ML_ID...|ImgPreF_CL-ML_ID1...|ImgPosF_CL-ML_ID1...|RdNBR_CL-ML_ID100...|Severity_CL-ML_ID...|FireScar_CL-ML_ID...|Severity_CL-ML_ID...|-35.9629744213841|-35.96917279684453|-71.75562826489909| -71.7526638244615| 11.0|  23.0| 130115.919494629|       0.0|      0.0| 18899.6307373047|111216.288757324|          1.0|    19.0|          NULL|                NULL|\n",
      "| ID10006|  1986|CL-ML|      7|       Maule|             RAUQUEN|     340.0|    1986-01-04|     1986-01-04|-35.4229|-71.7811|       1|FireScar_CL-ML_Ma...|FireScar_CL-ML_ID...|ImgPreF_CL-ML_ID1...|ImgPosF_CL-ML_ID1...|RdNBR_CL-ML_ID100...|Severity_CL-ML_ID...|FireScar_CL-ML_ID...|Severity_CL-ML_ID...|-35.4088935541392|-35.45066521485079|-71.80009487146309|-71.78096075591134| 71.0| 155.0| 3157330.23944092|       0.0|      0.0| 54150.2358398438|3103180.00360107|          3.0|    55.0|          NULL|                NULL|\n",
      "|ID100068|  2003|CL-ML|      7|       Maule|              LORETO|      82.0|    2003-02-21|     2003-02-22|-35.3431|-72.0974|       0|                NULL|                NULL|                NULL|                NULL|                NULL|                NULL|                NULL|                NULL|             NULL|              NULL|              NULL|              NULL| NULL|  NULL|             NULL|      NULL|     NULL|             NULL|            NULL|         NULL|    NULL|          NULL|                NULL|\n",
      "| ID10007|  1986|CL-VS|      5|  Valparaíso|          PICHUNCURA|     238.0|    1986-01-04|     1986-01-05|-33.1204|-71.6522|       1|FireScar_CL-VS_Va...|FireScar_CL-VS_ID...|ImgPreF_CL-VS_ID1...|ImgPosF_CL-VS_ID1...|RdNBR_CL-VS_ID100...|Severity_CL-VS_ID...|FireScar_CL-VS_ID...|Severity_CL-VS_ID...|-33.1101047420773| -33.1362457168452|-71.66346111674851| -71.6499863874867| 50.0|  97.0| 1791307.97924805|       0.0|      0.0| 248067.882995605|1543240.09625244|          1.0|   129.0|        ID5377|                NULL|\n",
      "| ID10008|  1986|CL-LI|      6|    OHiggins|RINCONADA DE MANA...|     414.0|    1986-01-23|     1986-01-24|-34.6535|-71.0351|       1|FireScar_CL-LI_Oh...|FireScar_CL-LI_ID...|ImgPreF_CL-LI_ID1...|ImgPosF_CL-LI_ID1...|RdNBR_CL-LI_ID100...|Severity_CL-LI_ID...|FireScar_CL-LI_ID...|Severity_CL-LI_ID...|-34.6526917479674|-34.70470420291795| -71.1012954119465|-71.04416255987647|212.0| 193.0| 8273263.74859619|       0.0|      0.0|  1696844.9977417|6576418.75085449|          7.0|   831.0|ID5956, ID5964|                NULL|\n",
      "|ID100081|  2003|CL-ML|      7|       Maule|        EL MORRO III|      85.0|    2003-02-23|     2003-02-24|-35.4739|-71.9151|       1|FireScar_CL-ML_Ma...|FireScar_CL-ML_ID...|ImgPreF_CL-ML_ID1...|ImgPosF_CL-ML_ID1...|RdNBR_CL-ML_ID100...|Severity_CL-ML_ID...|FireScar_CL-ML_ID...|Severity_CL-ML_ID...|-35.4770756842039|-35.48731647844286| -71.9167860268702|-71.90115534092651| 58.0|  38.0|659598.5147705079|       0.0|      0.0| 196709.286865234|462889.227905273|          2.0|    60.0|          NULL|                NULL|\n",
      "| ID10009|  1986|CL-AR|      9|La Araucanía|FUNDO LAUTARITO C...|      60.0|    1986-02-04|     1986-02-04|-38.2115|-72.3901|       0|                NULL|                NULL|                NULL|                NULL|                NULL|                NULL|                NULL|                NULL|             NULL|              NULL|              NULL|              NULL| NULL|  NULL|             NULL|      NULL|     NULL|             NULL|            NULL|         NULL|    NULL|          NULL|                NULL|\n",
      "|ID100090|  2003|CL-ML|      7|       Maule|               VIENA|      11.0|    2003-02-27|     2003-02-27|-35.2158|-71.3456|       1|FireScar_CL-ML_Ma...|FireScar_CL-ML_ID...|ImgPreF_CL-ML_ID1...|ImgPosF_CL-ML_ID1...|RdNBR_CL-ML_ID100...|Severity_CL-ML_ID...|FireScar_CL-ML_ID...|Severity_CL-ML_ID...|-35.2113540231613|-35.21916936613314| -71.3524643653863|-71.34384053865874| 32.0|  29.0|  382956.87121582|       0.0|      0.0| 21275.4337158203|     361681.4375|          1.0|    21.0|          NULL|                NULL|\n",
      "|ID100095|  2003|CL-ML|      7|       Maule|      CANTERAS MAULE|      10.0|    2003-03-01|     2003-03-02|-35.5598|-71.7086|       1|FireScar_CL-ML_Ma...|FireScar_CL-ML_ID...|ImgPreF_CL-ML_ID1...|ImgPosF_CL-ML_ID1...|RdNBR_CL-ML_ID100...|Severity_CL-ML_ID...|FireScar_CL-ML_ID...|Severity_CL-ML_ID...|-35.5552291139222|-35.56115799479739| -71.7157430662842|-71.70684974497142| 33.0|  22.0| 108126.364685059|       0.0|      0.0|56254.69519042969|51871.6694946289|          2.0|    17.0|          NULL|                NULL|\n",
      "|ID100097|  2003|CL-ML|      7|       Maule|         SAN ESTEBAN|     309.0|    2003-03-03|     2003-03-04|-35.8864|-72.3399|       1|FireScar_CL-ML_Ma...|FireScar_CL-ML_ID...|ImgPreF_CL-ML_ID1...|ImgPosF_CL-ML_ID1...|RdNBR_CL-ML_ID100...|Severity_CL-ML_ID...|FireScar_CL-ML_ID...|Severity_CL-ML_ID...|-35.8578715331421|-35.88967189419995| -72.3579486629013|-72.32237537765015|132.0| 118.0| 4281295.48400879|       0.0|      0.0|  745219.84576416|3536075.63824463|          1.0|   327.0|          NULL|                NULL|\n",
      "|ID100098|  2003|CL-ML|      7|       Maule|          FUNDO LORA|      20.0|    2003-03-03|     2003-03-03|-35.0373|-72.0748|       1|FireScar_CL-ML_Ma...|FireScar_CL-ML_ID...|ImgPreF_CL-ML_ID1...|ImgPosF_CL-ML_ID1...|RdNBR_CL-ML_ID100...|Severity_CL-ML_ID...|FireScar_CL-ML_ID...|Severity_CL-ML_ID...|-35.0286366943714|-35.03510456441706| -72.0876455939097|-72.08036924010833| 27.0|  24.0| 171315.668029785|       0.0|      0.0| 31616.2587280273|139699.409301758|          1.0|    25.0|          NULL|                NULL|\n",
      "+--------+------+-----+-------+------------+--------------------+----------+--------------+---------------+--------+--------+--------+--------------------+--------------------+--------------------+--------------------+--------------------+--------------------+--------------------+--------------------+-----------------+------------------+------------------+------------------+-----+------+-----------------+----------+---------+-----------------+----------------+-------------+--------+--------------+--------------------+\n",
      "only showing top 20 rows\n",
      "\n",
      "root\n",
      " |-- fireID: string (nullable = true)\n",
      " |-- season: integer (nullable = true)\n",
      " |-- code: string (nullable = true)\n",
      " |-- cut_reg: integer (nullable = true)\n",
      " |-- region_conaf: string (nullable = true)\n",
      " |-- name_conaf: string (nullable = true)\n",
      " |-- area_conaf: double (nullable = true)\n",
      " |-- ign_date_conaf: date (nullable = true)\n",
      " |-- ctrl_date_conaf: date (nullable = true)\n",
      " |-- lat: double (nullable = true)\n",
      " |-- lon: double (nullable = true)\n",
      " |-- firescar: integer (nullable = true)\n",
      " |-- folderloc: string (nullable = true)\n",
      " |-- firescar_img_name: string (nullable = true)\n",
      " |-- prefire_img_name: string (nullable = true)\n",
      " |-- postfire_img_name: string (nullable = true)\n",
      " |-- rdnbr_img_name: string (nullable = true)\n",
      " |-- sev_img_name: string (nullable = true)\n",
      " |-- firescar_vec_name: string (nullable = true)\n",
      " |-- sev_vec_name: string (nullable = true)\n",
      " |-- north_lat: double (nullable = true)\n",
      " |-- south_lat: double (nullable = true)\n",
      " |-- west_lon: double (nullable = true)\n",
      " |-- east_lon: double (nullable = true)\n",
      " |-- width: double (nullable = true)\n",
      " |-- height: double (nullable = true)\n",
      " |-- total_area: double (nullable = true)\n",
      " |-- area_unchs: double (nullable = true)\n",
      " |-- area_lows: double (nullable = true)\n",
      " |-- area_mods: double (nullable = true)\n",
      " |-- area_hs: double (nullable = true)\n",
      " |-- firescar_poly: double (nullable = true)\n",
      " |-- sev_poly: double (nullable = true)\n",
      " |-- overlap: string (nullable = true)\n",
      " |-- obs: string (nullable = true)\n",
      "\n"
     ]
    }
   ],
   "source": [
    "spark = SparkSession.builder.appName(\"Cicatrices\").config('spark.master','local[2]').getOrCreate()\n",
    "df= spark.read.csv('cicatrices_incendios_resumen.csv',header=True,inferSchema=True)\n",
    "df.show()\n",
    "df.printSchema()"
   ]
  }
 ],
 "metadata": {
  "kernelspec": {
   "display_name": "Python 3",
   "language": "python",
   "name": "python3"
  },
  "language_info": {
   "codemirror_mode": {
    "name": "ipython",
    "version": 3
   },
   "file_extension": ".py",
   "mimetype": "text/x-python",
   "name": "python",
   "nbconvert_exporter": "python",
   "pygments_lexer": "ipython3",
   "version": "3.10.0"
  }
 },
 "nbformat": 4,
 "nbformat_minor": 5
}
